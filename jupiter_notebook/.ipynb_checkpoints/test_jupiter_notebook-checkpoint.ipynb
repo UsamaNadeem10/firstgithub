{
 "cells": [
  {
   "cell_type": "markdown",
   "id": "14c1b94e",
   "metadata": {},
   "source": [
    "# Python ka chilla with baba Amaar\n",
    "# How to use jupiter notebook\n",
    "# Basic of python\n",
    "1- My first program\n",
    "\n",
    "2- Mysecond program"
   ]
  },
  {
   "cell_type": "code",
   "execution_count": 1,
   "id": "57c86023",
   "metadata": {},
   "outputs": [
    {
     "data": {
      "text/plain": [
       "5"
      ]
     },
     "execution_count": 1,
     "metadata": {},
     "output_type": "execute_result"
    }
   ],
   "source": [
    "a = 2+3\n",
    "a"
   ]
  },
  {
   "cell_type": "code",
   "execution_count": 10,
   "id": "7c773b6b",
   "metadata": {},
   "outputs": [
    {
     "name": "stdout",
     "output_type": "stream",
     "text": [
      "Usama\n"
     ]
    },
    {
     "data": {
      "text/plain": [
       "'Azaan'"
      ]
     },
     "execution_count": 10,
     "metadata": {},
     "output_type": "execute_result"
    }
   ],
   "source": [
    "print(\"Usama\")\n",
    "b= 'Azaan'\n",
    "b\n"
   ]
  },
  {
   "cell_type": "code",
   "execution_count": 11,
   "id": "0452b7f9",
   "metadata": {},
   "outputs": [
    {
     "name": "stdout",
     "output_type": "stream",
     "text": [
      "5\n",
      "Hello Usama\n",
      "Learning python with Amaar baba\n"
     ]
    }
   ],
   "source": [
    "print(2+3)\n",
    "print(\"Hello Usama\")\n",
    "print(\"Learning python with Amaar baba\")"
   ]
  }
 ],
 "metadata": {
  "kernelspec": {
   "display_name": "Python 3 (ipykernel)",
   "language": "python",
   "name": "python3"
  },
  "language_info": {
   "codemirror_mode": {
    "name": "ipython",
    "version": 3
   },
   "file_extension": ".py",
   "mimetype": "text/x-python",
   "name": "python",
   "nbconvert_exporter": "python",
   "pygments_lexer": "ipython3",
   "version": "3.9.12"
  }
 },
 "nbformat": 4,
 "nbformat_minor": 5
}
