{
 "cells": [
  {
   "cell_type": "markdown",
   "id": "0b96b731",
   "metadata": {},
   "source": [
    "# Python ka chilla with baba Amaar\n",
    "## How to use jupiter notebook\n",
    "### Basic of python\n",
    "### **01- My first program**"
   ]
  },
  {
   "cell_type": "code",
   "execution_count": 1,
   "id": "11a8c4d2",
   "metadata": {
    "scrolled": true
   },
   "outputs": [
    {
     "name": "stdout",
     "output_type": "stream",
     "text": [
      "5\n",
      "Hello Usama\n",
      "Learning python with Amaar baba\n"
     ]
    }
   ],
   "source": [
    "print(2+3)\n",
    "print(\"Hello Usama\")\n",
    "print(\"Learning python with Amaar baba\")"
   ]
  },
  {
   "cell_type": "markdown",
   "id": "9271dbbc",
   "metadata": {},
   "source": [
    "### **02- Operators**"
   ]
  },
  {
   "cell_type": "code",
   "execution_count": 2,
   "id": "cdf276e8",
   "metadata": {},
   "outputs": [
    {
     "name": "stdout",
     "output_type": "stream",
     "text": [
      "5\n",
      "2\n",
      "1\n",
      "1.5\n",
      "1\n",
      "8\n",
      "7\n",
      "-61.5\n"
     ]
    }
   ],
   "source": [
    "print(2+3)\n",
    "print(3-1)\n",
    "print(13%2)\n",
    "print(6/4)\n",
    "print(6//4)\n",
    "print(2**3)\n",
    "print(2**3+2-3)\n",
    "print(3**2/2+3*(1-23))\n"
   ]
  },
  {
   "cell_type": "markdown",
   "id": "0102da12",
   "metadata": {},
   "source": [
    "*PEMDAS\n",
    "Parenthesis Exponents Multiplication Divion Addition Substraction\n",
    "For AS & MD we execute from left to right*"
   ]
  },
  {
   "cell_type": "markdown",
   "id": "66d3d7d0",
   "metadata": {},
   "source": [
    "### **03- Strings**"
   ]
  },
  {
   "cell_type": "code",
   "execution_count": 3,
   "id": "6f1ed268",
   "metadata": {},
   "outputs": [
    {
     "name": "stdout",
     "output_type": "stream",
     "text": [
      "Hello World\n",
      "we are learning with Amaar\n",
      "Single quotes\n",
      "Double qoutes\n",
      "Triple qoutes\n",
      "what's up Hello\n",
      "what's upHello\n"
     ]
    }
   ],
   "source": [
    "print(\"Hello World\")\n",
    "print(\"we are learning with Amaar\")\n",
    "print('Single quotes')\n",
    "print(\"Double qoutes\")\n",
    "print('''Triple qoutes''')\n",
    "# Coma add space\n",
    "print(\"what's up\",\"Hello\")\n",
    "# concatination operater do not add space\n",
    "print(\"what's up\"+\"Hello\")"
   ]
  },
  {
   "cell_type": "markdown",
   "id": "1e997447",
   "metadata": {},
   "source": [
    "### **04- Comments**\n",
    "The shortcut key to comment is ctrl+/"
   ]
  },
  {
   "cell_type": "code",
   "execution_count": 4,
   "id": "24d1fcd0",
   "metadata": {
    "scrolled": true
   },
   "outputs": [
    {
     "name": "stdout",
     "output_type": "stream",
     "text": [
      "This is not comment\n"
     ]
    }
   ],
   "source": [
    "# print(\"Comment this\")\n",
    "print(\"This is not comment\")"
   ]
  },
  {
   "cell_type": "markdown",
   "id": "bb201b8a",
   "metadata": {},
   "source": [
    "### **05- Variables**"
   ]
  },
  {
   "cell_type": "code",
   "execution_count": 5,
   "id": "cc593d9b",
   "metadata": {},
   "outputs": [
    {
     "name": "stdout",
     "output_type": "stream",
     "text": [
      "5\n",
      "We are learning python\n",
      "17\n",
      "29\n",
      "<class 'int'>\n",
      "<class 'str'>\n",
      "29 <class 'int'>\n",
      "We are learning python <class 'str'>\n",
      "mangoes,Oranges <class 'str'>\n"
     ]
    }
   ],
   "source": [
    "# variables\n",
    "x=5\n",
    "print(x)\n",
    "\n",
    "y=\"We are learning python\"\n",
    "print(y)\n",
    "\n",
    "x=17\n",
    "print(x)\n",
    "\n",
    "x=x+12\n",
    "print(x)\n",
    "\n",
    "print(type(x))\n",
    "print(type(str(x)))\n",
    "\n",
    "print(x, type(x))\n",
    "print(y,type(y))\n",
    "\n",
    "fruit_basket= \"mangoes,Oranges\"\n",
    "# del fruit_basket,                        Delete variable above varialbe\n",
    "print(fruit_basket, type(fruit_basket))\n",
    "# del fruit_basket"
   ]
  },
  {
   "cell_type": "markdown",
   "id": "eca24ebf",
   "metadata": {},
   "source": [
    "### **06- Input Functions**"
   ]
  },
  {
   "cell_type": "code",
   "execution_count": 6,
   "id": "1e862472",
   "metadata": {},
   "outputs": [
    {
     "name": "stdout",
     "output_type": "stream",
     "text": [
      "What is your name? Usama\n",
      "what is your age? 18\n",
      "Hello! Usama You are still young\n"
     ]
    }
   ],
   "source": [
    "# fruit_basket= \"Mangoes\"\n",
    "# print(fruit_basket)\n",
    "\n",
    "# Input Function 1st stage\n",
    "\n",
    "\n",
    "# Input Function 2nd Stage\n",
    "# name= input(\"What is your name? \")\n",
    "# greatings= \" Hello!\"\n",
    "# print(greatings, name)\n",
    "\n",
    "name= input(\"What is your name? \")\n",
    "age = input(\"what is your age? \")\n",
    "greatings= \"Hello!\"\n",
    "print(greatings, name, \"You are still young\")"
   ]
  },
  {
   "cell_type": "markdown",
   "id": "8e07e1b1",
   "metadata": {},
   "source": [
    "### **07- Conditional logics**"
   ]
  },
  {
   "cell_type": "code",
   "execution_count": 7,
   "id": "7d26506c",
   "metadata": {},
   "outputs": [
    {
     "name": "stdout",
     "output_type": "stream",
     "text": [
      "What is azaan age? 5\n",
      "<class 'int'>\n",
      "True\n"
     ]
    }
   ],
   "source": [
    "# equal to ==\n",
    "# not equal t0 !=\n",
    "# less then <\n",
    "# greater then >\n",
    "\n",
    "# print(4==4)\n",
    "# print(4<=4)\n",
    "# print(4!=4)\n",
    "# print(3<6)\n",
    "# print(5>=6)\n",
    "\n",
    "# Application of logical operators\n",
    "# azaan_age =4\n",
    "# age_at_school=5\n",
    "# print(azaan_age==age_at_school)\n",
    "\n",
    "# input function and operator\n",
    "age_at_school = 5\n",
    "azaan_age=input(\"What is azaan age? \")\n",
    "azaan_age=int(azaan_age)\n",
    "print(type(azaan_age))\n",
    "print(azaan_age== age_at_school)"
   ]
  },
  {
   "cell_type": "markdown",
   "id": "3ee83a7d",
   "metadata": {},
   "source": [
    "### **08- type conversion**"
   ]
  },
  {
   "cell_type": "code",
   "execution_count": 8,
   "id": "0df63233",
   "metadata": {},
   "outputs": [
    {
     "name": "stdout",
     "output_type": "stream",
     "text": [
      "20.5  type of x is:  <class 'float'>\n",
      "What is your age? 20\n",
      "20 <class 'int'>\n"
     ]
    }
   ],
   "source": [
    "x=10\n",
    "y=10.5\n",
    "z=\"hello\"\n",
    "\n",
    "# implicit type conversion\n",
    "x=x+y\n",
    "print(x, \" type of x is: \",type(x))\n",
    "# print(type(y))\n",
    "# print(type(z))\n",
    "\n",
    "# explicit type conversion\n",
    "age= input(\"What is your age? \")\n",
    "# age= int(age)\n",
    "print(age, type(int(age)))\n",
    "\n"
   ]
  },
  {
   "cell_type": "markdown",
   "id": "b9b1aa32",
   "metadata": {},
   "source": [
    "### **09- if_else_elif**"
   ]
  },
  {
   "cell_type": "code",
   "execution_count": 9,
   "id": "66c97ca8",
   "metadata": {},
   "outputs": [
    {
     "name": "stdout",
     "output_type": "stream",
     "text": [
      "Hammad should join higher secondary school\n"
     ]
    }
   ],
   "source": [
    "required_age_at_school=5\n",
    "azaan_age=9\n",
    "\n",
    "\n",
    "if required_age_at_school==azaan_age:\n",
    "    print(\"Azaan can go to school\")\n",
    "# elif azaan_age<10:\n",
    "#     print(\"Azaan cannot go to school\")\n",
    "elif azaan_age>required_age_at_school:\n",
    "    print(\"Hammad should join higher secondary school\")\n",
    "elif azaan_age==2:\n",
    "    print(\"He is baby\")\n",
    "else:\n",
    "    print(\"Hammad cannot go to school\")"
   ]
  },
  {
   "cell_type": "markdown",
   "id": "15f59107",
   "metadata": {},
   "source": [
    "### **10- Functions**"
   ]
  },
  {
   "cell_type": "code",
   "execution_count": 10,
   "id": "722f6c40",
   "metadata": {},
   "outputs": [
    {
     "name": "stdout",
     "output_type": "stream",
     "text": [
      "Hello\n",
      "Hello\n",
      "Hello\n",
      "Hello\n",
      "Usama Nadeem\n",
      "Usama Nadeem\n",
      "We are learning\n",
      "We are learning\n",
      "We are learning\n",
      "Hammad is still a baby\n",
      "25\n"
     ]
    }
   ],
   "source": [
    "# Define a functions\n",
    "\n",
    "# 1\n",
    "\n",
    "def print_usama():\n",
    "    print(\"Hello\")\n",
    "    print(\"Hello\")\n",
    "    print(\"Hello\")\n",
    "    print(\"Hello\")\n",
    "\n",
    "print_usama()\n",
    "\n",
    "# 2\n",
    "\n",
    "def print_name():\n",
    "\n",
    "    data =\"Usama Nadeem\"\n",
    "    print(data)\n",
    "    print(data)\n",
    "\n",
    "print_name()\n",
    "\n",
    "# 3\n",
    "\n",
    "def print_stage(data):\n",
    "    print(data)\n",
    "    print(data)\n",
    "    print(data)\n",
    "print_stage(\"We are learning\")\n",
    "\n",
    "def calculator(age):\n",
    "    if age==5:\n",
    "        print(\"Hammad can join school\")\n",
    "    elif age>5:\n",
    "        print(\"Hammad should go to higher school\")\n",
    "    else:\n",
    "        print(\"Hammad is still a baby\")\n",
    "calculator(4)\n",
    "\n",
    "def future_age(age):\n",
    "    new_age=age+20\n",
    "    return new_age\n",
    "print(future_age(5))\n",
    "# future_predicted_age= future_age(18)\n",
    "# print(future_predicted_age)"
   ]
  },
  {
   "cell_type": "markdown",
   "id": "295378ec",
   "metadata": {},
   "source": [
    "### **11- Loops**"
   ]
  },
  {
   "cell_type": "code",
   "execution_count": 11,
   "id": "34cfac93",
   "metadata": {},
   "outputs": [
    {
     "name": "stdout",
     "output_type": "stream",
     "text": [
      "0\n",
      "1\n",
      "2\n",
      "3\n",
      "4\n",
      "Mon\n",
      "Tue\n",
      "Wed\n",
      "Thu\n",
      "Sat\n",
      "Sun\n"
     ]
    }
   ],
   "source": [
    "# While Loop\n",
    "\n",
    "x=0\n",
    "while(x<5):\n",
    "    print(x)\n",
    "    x=x+1\n",
    "    \n",
    "# for loop\n",
    "\n",
    "# for x in range(4,11):\n",
    "#     print(x)\n",
    "# for x in range(3,7):\n",
    "#     print(x)\n",
    "\n",
    "# array\n",
    "days= [\"Mon\", \"Tue\", \"Wed\", \"Thu\", \"Fri\",\"Sat\",\"Sun\"]\n",
    "for i in days:\n",
    "    if(i==\"Fri\"): \n",
    "        # break\n",
    "        continue  \n",
    "    print(i)\n"
   ]
  },
  {
   "cell_type": "markdown",
   "id": "beb54351",
   "metadata": {},
   "source": [
    "### **12- Import libraries**"
   ]
  },
  {
   "cell_type": "code",
   "execution_count": 12,
   "id": "e0ef1509",
   "metadata": {},
   "outputs": [
    {
     "name": "stdout",
     "output_type": "stream",
     "text": [
      "The value of pi is  3.141592653589793\n",
      "300\n"
     ]
    }
   ],
   "source": [
    "import imp\n",
    "import math\n",
    "print(\"The value of pi is \",math.pi)\n",
    "\n",
    "import statistics\n",
    "x=[100,200,300,400,500]\n",
    "print(statistics.mean(x))\n",
    "\n",
    "# numpy, pandas"
   ]
  },
  {
   "cell_type": "markdown",
   "id": "2d491d17",
   "metadata": {},
   "source": [
    "### **13- Trouble shooting**"
   ]
  },
  {
   "cell_type": "code",
   "execution_count": 13,
   "id": "36025753",
   "metadata": {},
   "outputs": [
    {
     "ename": "ZeroDivisionError",
     "evalue": "division by zero",
     "output_type": "error",
     "traceback": [
      "\u001b[1;31m---------------------------------------------------------------------------\u001b[0m",
      "\u001b[1;31mZeroDivisionError\u001b[0m                         Traceback (most recent call last)",
      "Input \u001b[1;32mIn [13]\u001b[0m, in \u001b[0;36m<cell line: 6>\u001b[1;34m()\u001b[0m\n\u001b[0;32m      1\u001b[0m \u001b[38;5;66;03m# Syntax Error\u001b[39;00m\n\u001b[0;32m      2\u001b[0m \u001b[38;5;66;03m# print(how are you)\u001b[39;00m\n\u001b[0;32m      3\u001b[0m \u001b[38;5;66;03m# inverted comas should be added\u001b[39;00m\n\u001b[0;32m      4\u001b[0m \n\u001b[0;32m      5\u001b[0m \u001b[38;5;66;03m# Runtime Error\u001b[39;00m\n\u001b[1;32m----> 6\u001b[0m \u001b[38;5;28mprint\u001b[39m(\u001b[38;5;241;43m25\u001b[39;49m\u001b[38;5;241;43m/\u001b[39;49m\u001b[38;5;241;43m0\u001b[39;49m)\n",
      "\u001b[1;31mZeroDivisionError\u001b[0m: division by zero"
     ]
    }
   ],
   "source": [
    "# Syntax Error\n",
    "# print(how are you)\n",
    "# inverted comas should be added\n",
    "\n",
    "# Runtime Error\n",
    "print(25/0)\n"
   ]
  }
 ],
 "metadata": {
  "kernelspec": {
   "display_name": "Python 3 (ipykernel)",
   "language": "python",
   "name": "python3"
  },
  "language_info": {
   "codemirror_mode": {
    "name": "ipython",
    "version": 3
   },
   "file_extension": ".py",
   "mimetype": "text/x-python",
   "name": "python",
   "nbconvert_exporter": "python",
   "pygments_lexer": "ipython3",
   "version": "3.9.12"
  }
 },
 "nbformat": 4,
 "nbformat_minor": 5
}
